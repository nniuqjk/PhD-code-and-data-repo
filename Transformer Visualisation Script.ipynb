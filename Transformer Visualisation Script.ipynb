{
 "cells": [
  {
   "cell_type": "markdown",
   "id": "8962b598",
   "metadata": {},
   "source": [
    "This script produces the visualisations for the attention heads within gpt-2. There are a number of different models that can be chosen from HuggingFace. The script was adopted from this codebase https://github.com/jessevig/bertviz"
   ]
  },
  {
   "cell_type": "code",
   "execution_count": null,
   "id": "ad460c81",
   "metadata": {},
   "outputs": [],
   "source": [
    "from transformers import AutoTokenizer, AutoModel, utils\n",
    "from bertviz import model_view, head_view\n",
    "utils.logging.set_verbosity_error()"
   ]
  },
  {
   "cell_type": "code",
   "execution_count": null,
   "id": "9c15539f",
   "metadata": {
    "scrolled": false
   },
   "outputs": [],
   "source": [
    "model_name = \"gpt2\" \n",
    "input_text = \"Lass uns ein bisschen Spaß haben!\" ## This needs to be a single sentence. Larger sentences create massive images ##\n",
    "model = AutoModel.from_pretrained(model_name, output_attentions=True) \n",
    "tokenizer = AutoTokenizer.from_pretrained(model_name)\n",
    "inputs = tokenizer.encode(input_text, return_tensors='pt') \n",
    "outputs = model(inputs) \n",
    "attention = outputs[-1] \n",
    "tokens = tokenizer.convert_ids_to_tokens(inputs[0]) \n",
    "model_view(attention, tokens) "
   ]
  },
  {
   "cell_type": "code",
   "execution_count": null,
   "id": "c995065a",
   "metadata": {},
   "outputs": [],
   "source": [
    "from bertviz.transformers_neuron_view import BertModel, BertTokenizer\n",
    "from bertviz.neuron_view import show\n",
    "\n",
    "sentence_a = \"Lass uns ein bisschen Spaß haben!\"\n",
    "sentence_b = \"Lass uns ein bisschen Spaß haben!\"\n",
    "\n",
    "model_type = 'bert'\n",
    "model_version = 'bert-base-uncased'\n",
    "model = BertModel.from_pretrained(model_version, output_attentions=True)\n",
    "tokenizer = BertTokenizer.from_pretrained(model_version, do_lower_case=True)\n",
    "show(model, model_type, tokenizer, sentence_a, sentence_b, layer=4, head=3)\n",
    "\n"
   ]
  },
  {
   "cell_type": "code",
   "execution_count": null,
   "id": "cf7a2baf",
   "metadata": {},
   "outputs": [],
   "source": [
    "from bertviz import head_view, model_view\n",
    "from transformers import BertTokenizer, BertModel\n",
    "\n",
    "model_version = 'bert-base-uncased'\n",
    "model = BertModel.from_pretrained(model_version, output_attentions=True)\n",
    "tokenizer = BertTokenizer.from_pretrained(model_version)\n",
    "sentence_a = \"Lass uns ein bisschen Spaß haben!\"\n",
    "#sentence_b = \"Lass uns ein bisschen Spaß haben!\"\n",
    "inputs = tokenizer.encode_plus(sentence_a, sentence_b, return_tensors='pt')\n",
    "input_ids = inputs['input_ids']\n",
    "token_type_ids = inputs['token_type_ids']\n",
    "attention = model(input_ids, token_type_ids=token_type_ids)[-1]\n",
    "sentence_b_start = token_type_ids[0].tolist().index(1)\n",
    "input_id_list = input_ids[0].tolist() # Batch index 0\n",
    "tokens = tokenizer.convert_ids_to_tokens(input_id_list) \n",
    "inputs = tokenizer.encode_plus(sentence_a, sentence_b, return_tensors='pt')\n",
    "input_ids = inputs['input_ids']\n",
    "token_type_ids = inputs['token_type_ids']\n",
    "attention = model(input_ids, token_type_ids=token_type_ids)[-1]\n",
    "sentence_b_start = token_type_ids[0].tolist().index(1)\n",
    "input_id_list = input_ids[0].tolist() # Batch index 0\n",
    "tokens = tokenizer.convert_ids_to_tokens(input_id_list) "
   ]
  },
  {
   "cell_type": "code",
   "execution_count": null,
   "id": "aebf3371",
   "metadata": {},
   "outputs": [],
   "source": [
    "head_view(attention, tokens, sentence_b_start)"
   ]
  },
  {
   "cell_type": "code",
   "execution_count": null,
   "id": "e1fc5b26",
   "metadata": {},
   "outputs": [],
   "source": []
  }
 ],
 "metadata": {
  "kernelspec": {
   "display_name": "Python 3 (ipykernel)",
   "language": "python",
   "name": "python3"
  },
  "language_info": {
   "codemirror_mode": {
    "name": "ipython",
    "version": 3
   },
   "file_extension": ".py",
   "mimetype": "text/x-python",
   "name": "python",
   "nbconvert_exporter": "python",
   "pygments_lexer": "ipython3",
   "version": "3.10.9"
  }
 },
 "nbformat": 4,
 "nbformat_minor": 5
}
