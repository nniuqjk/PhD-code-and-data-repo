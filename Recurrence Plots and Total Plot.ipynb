{
 "cells": [
  {
   "cell_type": "code",
   "execution_count": null,
   "id": "99c2f922",
   "metadata": {},
   "outputs": [],
   "source": [
    "import sys\n",
    "print(sys.version)"
   ]
  },
  {
   "cell_type": "code",
   "execution_count": null,
   "id": "d91173c6",
   "metadata": {},
   "outputs": [],
   "source": [
    "import pandas as pd\n",
    "import numpy as np\n",
    "import os\n",
    "\n",
    "from pathlib import Path, PureWindowsPath\n",
    "\n",
    "import matplotlib.pyplot as plt\n",
    "import matplotlib.mlab as mlab\n",
    "import seaborn as sns"
   ]
  },
  {
   "cell_type": "code",
   "execution_count": null,
   "id": "fdcf9661",
   "metadata": {},
   "outputs": [],
   "source": [
    "df = pd.read_csv(\"inputfile.csv\")\n",
    "#print(df)"
   ]
  },
  {
   "cell_type": "code",
   "execution_count": null,
   "id": "2346b7b8",
   "metadata": {},
   "outputs": [],
   "source": [
    "nested_dict = df.groupby('Lang').apply(lambda x: pd.DataFrame(zip(x['Key'], x['Value'])).groupby(0)[1].apply(list).to_dict()).to_dict()\n",
    "#print(nested_dict)"
   ]
  },
  {
   "cell_type": "code",
   "execution_count": null,
   "id": "48c31c93",
   "metadata": {},
   "outputs": [],
   "source": [
    "order = ['1sg_a','1sg_s','1sg_o','1sg_p',\n",
    "         '1du_a','1du_s','1du_o','1du_p',\n",
    "         '1pl_a','1pl_s','1pl_o','1pl_p',\n",
    "         '12du_a','12du_s','12du_o','12du_p',\n",
    "         '12pl_a','12pl_s','12pl_o','12pl_p',\n",
    "         '2sg_a','2sg_s','2sg_o','2sg_p',\n",
    "         '2du_a','2du_s','2du_o','2du_p',\n",
    "         '2pl_a','2pl_s','2pl_o','2pl_p',\n",
    "         '3sg_m_a','3sg_m_s','3sg_m_o','3sg_m_p',\n",
    "         '3sg_n_a','3sg_n_s','3sg_n_o','3sg_n_p',\n",
    "         '3d_a','3d_s','3d_o','3d_p',\n",
    "         '3p_a','3p_s','3p_o','3p_p']\n",
    "\n",
    "total_matrix = np.zeros((48,48))\n",
    "\n",
    "for outer_key, inner_dict in nested_dict.items():\n",
    "    print(outer_key)\n",
    "    #print(inner_dict)\n",
    "    my_dict = inner_dict\n",
    "    sorted_nested_dict = {key: my_dict[key] for key in order}        \n",
    "    print(sorted_nested_dict)\n",
    "\n",
    "    filename = outer_key + \"_pronoun.svg\"\n",
    "    fullfilepath = \"C:\\\\Users\\\\antri\\\\Dropbox\\\\Additional_Files\\\\SVG Files\\\\\" + filename\n",
    "    #totalmatrixpath = \"C:\\\\Users\\\\antri\\\\Dropbox\\\\Additional_Files\\\\SVG Files\\\\total_matrix.svg\"\n",
    "    data = list(sorted_nested_dict.values())\n",
    "    paramater_list = list(sorted_nested_dict.keys())\n",
    "        #print(glottocode,data)\n",
    "    n = len(data)\n",
    "    recurrence_matrix = np.zeros((n, n))\n",
    "\n",
    "    for i in range(n):\n",
    "        for j in range(n):\n",
    "            if data[i] == data[j]:\n",
    "                recurrence_matrix[i, j] = 1\n",
    "    print(outer_key)\n",
    "    total_matrix = total_matrix + recurrence_matrix\n",
    "    sns.heatmap(recurrence_matrix, cmap=\"gray_r\", cbar=False)\n",
    "    plt.title(outer_key)\n",
    "    plt.xticks([])  # Hide x-axis ticks\n",
    "    plt.yticks([])  # Hide y-axis ticks#plt.xlabel(\"Pronoun Term\")\n",
    "    fig1 = plt.gcf()\n",
    "    plt.show()\n",
    "    fig1.savefig(fullfilepath)\n"
   ]
  },
  {
   "cell_type": "code",
   "execution_count": null,
   "id": "a97df870",
   "metadata": {},
   "outputs": [],
   "source": [
    "sns.heatmap(total_matrix, cmap='gray_r', cbar=False)\n",
    "plt.title(\"Tonda Data Pronoun Map\")\n",
    "plt.xticks([])  # Hide x-axis ticks\n",
    "plt.yticks([])  # Hide y-axis ticks#plt.xlabel(\"Pronoun Term\")\n",
    "fig1 = plt.gcf()\n",
    "plt.show()\n",
    "fig1.savefig(\"outputfile.svg\")"
   ]
  },
  {
   "cell_type": "code",
   "execution_count": null,
   "id": "42b034b9",
   "metadata": {},
   "outputs": [],
   "source": []
  }
 ],
 "metadata": {
  "kernelspec": {
   "display_name": "Python 3 (ipykernel)",
   "language": "python",
   "name": "python3"
  },
  "language_info": {
   "codemirror_mode": {
    "name": "ipython",
    "version": 3
   },
   "file_extension": ".py",
   "mimetype": "text/x-python",
   "name": "python",
   "nbconvert_exporter": "python",
   "pygments_lexer": "ipython3",
   "version": "3.10.9"
  }
 },
 "nbformat": 4,
 "nbformat_minor": 5
}
