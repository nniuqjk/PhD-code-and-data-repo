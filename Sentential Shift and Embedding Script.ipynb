{
 "cells": [
  {
   "cell_type": "markdown",
   "id": "38fcda45",
   "metadata": {},
   "source": [
    "This is the script used to produce embeddings of paradigms in Chapter 6 of my PhD dissertation. It takes as input a .csv file and produces an Excel spreadsheet containing an embedding for each individual language."
   ]
  },
  {
   "cell_type": "code",
   "execution_count": null,
   "id": "0f5b00bc-c208-4cbd-8faa-5ee86b734b08",
   "metadata": {},
   "outputs": [],
   "source": [
    "import pandas as pd\n",
    "import numpy as np\n",
    "import os\n",
    "\n",
    "from pathlib import Path, PureWindowsPath\n",
    "\n",
    "import openai"
   ]
  },
  {
   "cell_type": "markdown",
   "id": "68140979",
   "metadata": {},
   "source": [
    "It is assumed that the .csv file is formatted using at least 3 columns - 'Lang', 'Key', 'Value'"
   ]
  },
  {
   "cell_type": "code",
   "execution_count": null,
   "id": "0381f320-c6f3-4a89-8556-8591e8288a38",
   "metadata": {
    "scrolled": true
   },
   "outputs": [],
   "source": [
    "df = pd.read_csv(\"inputfile.csv\")\n",
    "print(df)"
   ]
  },
  {
   "cell_type": "code",
   "execution_count": null,
   "id": "24c6ac93-8c09-4d51-ba4d-1db49e12f8d8",
   "metadata": {},
   "outputs": [],
   "source": [
    "gkk = df.groupby('Lang')['Value'].value_counts()\n",
    "\n",
    "gkdf = df.groupby('Lang')['Value'].nunique()\n",
    "gkdf = gkdf.to_frame()\n",
    "print(gkdf)\n",
    "\n",
    "gkhist = gkdf['Value'].value_counts()\n",
    "gkhistx = [gkhist]\n",
    "#print(gkhist)\n"
   ]
  },
  {
   "cell_type": "code",
   "execution_count": null,
   "id": "1a39815f-e603-4446-8560-1879adf0213a",
   "metadata": {},
   "outputs": [],
   "source": [
    "df['FullPatt'] = df.groupby('Lang')[\"Value\"].transform(lambda x: ' '.join((map(str, x))))\n",
    "dfdd = df['FullPatt'].drop_duplicates()\n",
    "dfdl = df['Lang'].drop_duplicates()\n",
    "print(dfdd)\n",
    "print(dfdl)"
   ]
  },
  {
   "cell_type": "code",
   "execution_count": null,
   "id": "7d055018-4692-47c6-808f-5ca5221004e4",
   "metadata": {},
   "outputs": [],
   "source": [
    "prevec=open('label.txt', 'w', encoding='utf-8')\n",
    "for item in dfdl:\n",
    "    prevec.write(\"%s\\n\" % item)\n",
    "prevec.close()"
   ]
  },
  {
   "cell_type": "code",
   "execution_count": null,
   "id": "033bc17a-60c5-4a01-87d7-0c1aa26dbcf9",
   "metadata": {},
   "outputs": [],
   "source": [
    "ddf = pd.DataFrame({'Lang': dfdl, 'ProString': dfdd})\n",
    "print(ddf)"
   ]
  },
  {
   "cell_type": "code",
   "execution_count": null,
   "id": "0d2b1f6b-579e-468b-950f-e540a14df903",
   "metadata": {},
   "outputs": [],
   "source": [
    "dfvec=pd.DataFrame()\n",
    "\n",
    "openai.api_key = \"insert key here\"\n",
    "\n",
    "for lang, x in ddf.values:\n",
    "\n",
    "    embedding = openai.Embedding.create(input=str(x), model=\"text-embedding-3-small\")[\"data\"][0][\"embedding\"]\n",
    "   \n",
    "    lengthvec = len(embedding)\n",
    " \n",
    "    dfvec = dfvec.append(pd.Series(embedding), ignore_index=True)\n",
    "    \n",
    "dfvec.apply(pd.to_numeric)"
   ]
  },
  {
   "cell_type": "code",
   "execution_count": null,
   "id": "348e8489-3432-49fe-a25f-0cc1dd95d576",
   "metadata": {},
   "outputs": [],
   "source": [
    "df_vecs = pd.DataFrame(dfvec)\n",
    "df_vecs.to_excel('output.xlsx', index=False, header=False)"
   ]
  },
  {
   "cell_type": "code",
   "execution_count": null,
   "id": "98d318e1-2812-4b18-b8a4-82c293fb39c9",
   "metadata": {},
   "outputs": [],
   "source": [
    "langlist=dfdl.tolist()"
   ]
  },
  {
   "cell_type": "code",
   "execution_count": null,
   "id": "6c4e58d5-5e78-4d4c-ab22-7dfce670ecb6",
   "metadata": {
    "scrolled": true
   },
   "outputs": [],
   "source": [
    "df_vecs.insert(0, \"Lang\", langlist)\n",
    "df_vecs.set_index(\"Lang\", inplace = True)\n",
    "#print(dataVecs)\n",
    "print(df_vecs)"
   ]
  },
  {
   "cell_type": "code",
   "execution_count": null,
   "id": "8cfcb4ec-72ea-4c97-8c5d-c17e2a141d4b",
   "metadata": {},
   "outputs": [],
   "source": [
    "df_vecs.to_excel(\"vector output file.xlsx\", index=True, header=False)"
   ]
  }
 ],
 "metadata": {
  "kernelspec": {
   "display_name": "Python 3 (ipykernel)",
   "language": "python",
   "name": "python3"
  },
  "language_info": {
   "codemirror_mode": {
    "name": "ipython",
    "version": 3
   },
   "file_extension": ".py",
   "mimetype": "text/x-python",
   "name": "python",
   "nbconvert_exporter": "python",
   "pygments_lexer": "ipython3",
   "version": "3.10.9"
  }
 },
 "nbformat": 4,
 "nbformat_minor": 5
}
